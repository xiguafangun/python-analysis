{
 "cells": [
  {
   "cell_type": "code",
   "execution_count": 12,
   "metadata": {},
   "outputs": [],
   "source": [
    "import pandas as pd\n",
    "import numpy as np"
   ]
  },
  {
   "cell_type": "markdown",
   "metadata": {},
   "source": [
    "## DataFrame 的使用"
   ]
  },
  {
   "cell_type": "markdown",
   "metadata": {},
   "source": [
    "### DataFrame 的创建"
   ]
  },
  {
   "cell_type": "code",
   "execution_count": 13,
   "metadata": {},
   "outputs": [
    {
     "name": "stdout",
     "output_type": "stream",
     "text": [
      "     姓名  职业  年龄\n",
      "one  小明  学生  20\n",
      "two  鸣人  火影  18\n"
     ]
    }
   ],
   "source": [
    "a = pd.DataFrame(\n",
    "    [\n",
    "        [\"小明\", \"学生\", 20],\n",
    "        [\"鸣人\", \"火影\", 18],\n",
    "    ],\n",
    "    index=[\"one\", \"two\"],\n",
    "    columns=[\"姓名\", \"职业\", \"年龄\"],\n",
    ")\n",
    "print(a)"
   ]
  },
  {
   "cell_type": "code",
   "execution_count": 14,
   "metadata": {},
   "outputs": [
    {
     "name": "stdout",
     "output_type": "stream",
     "text": [
      "   姓名  职业  年龄\n",
      "0  小明  学生  20\n",
      "1  鸣人  火影  18\n"
     ]
    }
   ],
   "source": [
    "b = pd.DataFrame(\n",
    "    {\n",
    "        \"姓名\": [\"小明\", \"鸣人\"],\n",
    "        \"职业\": [\"学生\", \"火影\"],\n",
    "        \"年龄\": [20, 18],\n",
    "    }\n",
    ")\n",
    "print(b)"
   ]
  },
  {
   "cell_type": "code",
   "execution_count": 15,
   "metadata": {},
   "outputs": [
    {
     "data": {
      "text/html": [
       "<div>\n",
       "<style scoped>\n",
       "    .dataframe tbody tr th:only-of-type {\n",
       "        vertical-align: middle;\n",
       "    }\n",
       "\n",
       "    .dataframe tbody tr th {\n",
       "        vertical-align: top;\n",
       "    }\n",
       "\n",
       "    .dataframe thead th {\n",
       "        text-align: right;\n",
       "    }\n",
       "</style>\n",
       "<table border=\"1\" class=\"dataframe\">\n",
       "  <thead>\n",
       "    <tr style=\"text-align: right;\">\n",
       "      <th></th>\n",
       "      <th>movie_id</th>\n",
       "      <th>movie_name</th>\n",
       "      <th>length</th>\n",
       "      <th>year</th>\n",
       "      <th>score</th>\n",
       "      <th>score_count</th>\n",
       "      <th>intro</th>\n",
       "      <th>want_count</th>\n",
       "      <th>watched_count</th>\n",
       "      <th>actor_count</th>\n",
       "      <th>short_count</th>\n",
       "      <th>comment_count</th>\n",
       "      <th>discuss_count</th>\n",
       "      <th>question_count</th>\n",
       "    </tr>\n",
       "  </thead>\n",
       "  <tbody>\n",
       "    <tr>\n",
       "      <th>0</th>\n",
       "      <td>26752564</td>\n",
       "      <td>小伟</td>\n",
       "      <td>108.0</td>\n",
       "      <td>2019</td>\n",
       "      <td>7.8</td>\n",
       "      <td>17309</td>\n",
       "      <td>一家三口的生活因父亲伟明被查出末期肝癌而改变。表面上平静的家庭被阴霾笼罩。妈妈慕伶扛起家...</td>\n",
       "      <td>41735.0</td>\n",
       "      <td>19239.0</td>\n",
       "      <td>12</td>\n",
       "      <td>7554</td>\n",
       "      <td>185</td>\n",
       "      <td>75</td>\n",
       "      <td>0</td>\n",
       "    </tr>\n",
       "    <tr>\n",
       "      <th>1</th>\n",
       "      <td>35068230</td>\n",
       "      <td>吉祥如意</td>\n",
       "      <td>80.0</td>\n",
       "      <td>2020</td>\n",
       "      <td>8.0</td>\n",
       "      <td>39616</td>\n",
       "      <td>大鹏首次执导现实题材文艺片，故事讲述一位喜剧片导演突发奇想，回到东北农村老家，希望将一家...</td>\n",
       "      <td>54244.0</td>\n",
       "      <td>42857.0</td>\n",
       "      <td>17</td>\n",
       "      <td>17257</td>\n",
       "      <td>622</td>\n",
       "      <td>155</td>\n",
       "      <td>0</td>\n",
       "    </tr>\n",
       "    <tr>\n",
       "      <th>2</th>\n",
       "      <td>30292777</td>\n",
       "      <td>阳光普照 陽光普照</td>\n",
       "      <td>155.0</td>\n",
       "      <td>2019</td>\n",
       "      <td>8.5</td>\n",
       "      <td>207633</td>\n",
       "      <td>平凡的一家人阿文（陈以文饰）和琴姐（柯淑勤饰）育有两个儿子，叛逆的小儿子阿和（巫建和饰）...</td>\n",
       "      <td>219017.0</td>\n",
       "      <td>240555.0</td>\n",
       "      <td>32</td>\n",
       "      <td>69387</td>\n",
       "      <td>1759</td>\n",
       "      <td>456</td>\n",
       "      <td>0</td>\n",
       "    </tr>\n",
       "    <tr>\n",
       "      <th>3</th>\n",
       "      <td>30340038</td>\n",
       "      <td>吉祥</td>\n",
       "      <td>48.0</td>\n",
       "      <td>2018</td>\n",
       "      <td>7.9</td>\n",
       "      <td>2471</td>\n",
       "      <td>她叫王丽丽，是一个从东北小城来北京打工的女孩。丽丽的父亲名叫王吉祥，中年得病，脑子痴呆，...</td>\n",
       "      <td>9281.0</td>\n",
       "      <td>2917.0</td>\n",
       "      <td>8</td>\n",
       "      <td>603</td>\n",
       "      <td>14</td>\n",
       "      <td>21</td>\n",
       "      <td>0</td>\n",
       "    </tr>\n",
       "    <tr>\n",
       "      <th>4</th>\n",
       "      <td>27191492</td>\n",
       "      <td>四个春天</td>\n",
       "      <td>105.0</td>\n",
       "      <td>2017</td>\n",
       "      <td>8.9</td>\n",
       "      <td>132674</td>\n",
       "      <td>《四个春天》是一部以真实家庭生活为背景的纪录片。15岁离家，在异乡漂泊多年的导演以自己南...</td>\n",
       "      <td>223906.0</td>\n",
       "      <td>187907.0</td>\n",
       "      <td>36</td>\n",
       "      <td>54632</td>\n",
       "      <td>1339</td>\n",
       "      <td>212</td>\n",
       "      <td>14</td>\n",
       "    </tr>\n",
       "  </tbody>\n",
       "</table>\n",
       "</div>"
      ],
      "text/plain": [
       "   movie_id movie_name  length  year  score  score_count  \\\n",
       "0  26752564         小伟   108.0  2019    7.8        17309   \n",
       "1  35068230       吉祥如意    80.0  2020    8.0        39616   \n",
       "2  30292777  阳光普照 陽光普照   155.0  2019    8.5       207633   \n",
       "3  30340038         吉祥    48.0  2018    7.9         2471   \n",
       "4  27191492       四个春天   105.0  2017    8.9       132674   \n",
       "\n",
       "                                               intro  want_count  \\\n",
       "0  　　一家三口的生活因父亲伟明被查出末期肝癌而改变。表面上平静的家庭被阴霾笼罩。妈妈慕伶扛起家...     41735.0   \n",
       "1  　　大鹏首次执导现实题材文艺片，故事讲述一位喜剧片导演突发奇想，回到东北农村老家，希望将一家...     54244.0   \n",
       "2  　　平凡的一家人阿文（陈以文饰）和琴姐（柯淑勤饰）育有两个儿子，叛逆的小儿子阿和（巫建和饰）...    219017.0   \n",
       "3  　　她叫王丽丽，是一个从东北小城来北京打工的女孩。丽丽的父亲名叫王吉祥，中年得病，脑子痴呆，...      9281.0   \n",
       "4  　　《四个春天》是一部以真实家庭生活为背景的纪录片。15岁离家，在异乡漂泊多年的导演以自己南...    223906.0   \n",
       "\n",
       "   watched_count  actor_count  short_count  comment_count  discuss_count  \\\n",
       "0        19239.0           12         7554            185             75   \n",
       "1        42857.0           17        17257            622            155   \n",
       "2       240555.0           32        69387           1759            456   \n",
       "3         2917.0            8          603             14             21   \n",
       "4       187907.0           36        54632           1339            212   \n",
       "\n",
       "   question_count  \n",
       "0               0  \n",
       "1               0  \n",
       "2               0  \n",
       "3               0  \n",
       "4              14  "
      ]
     },
     "execution_count": 15,
     "metadata": {},
     "output_type": "execute_result"
    }
   ],
   "source": [
    "movies = pd.read_csv('movies.csv', encoding='utf-8-sig')\n",
    "movies.head() # 显示头几行数据，默认5行"
   ]
  },
  {
   "cell_type": "code",
   "execution_count": 16,
   "metadata": {},
   "outputs": [
    {
     "data": {
      "text/plain": [
       "RangeIndex(start=0, stop=2407, step=1)"
      ]
     },
     "execution_count": 16,
     "metadata": {},
     "output_type": "execute_result"
    }
   ],
   "source": [
    "movies.index"
   ]
  },
  {
   "cell_type": "code",
   "execution_count": 17,
   "metadata": {},
   "outputs": [
    {
     "name": "stdout",
     "output_type": "stream",
     "text": [
      "<class 'pandas.core.frame.DataFrame'>\n",
      "RangeIndex: 2407 entries, 0 to 2406\n",
      "Data columns (total 14 columns):\n",
      " #   Column          Non-Null Count  Dtype  \n",
      "---  ------          --------------  -----  \n",
      " 0   movie_id        2407 non-null   int64  \n",
      " 1   movie_name      2407 non-null   object \n",
      " 2   length          2157 non-null   float64\n",
      " 3   year            2407 non-null   int64  \n",
      " 4   score           2150 non-null   float64\n",
      " 5   score_count     2407 non-null   int64  \n",
      " 6   intro           2390 non-null   object \n",
      " 7   want_count      2404 non-null   float64\n",
      " 8   watched_count   2398 non-null   float64\n",
      " 9   actor_count     2407 non-null   int64  \n",
      " 10  short_count     2407 non-null   int64  \n",
      " 11  comment_count   2407 non-null   int64  \n",
      " 12  discuss_count   2407 non-null   int64  \n",
      " 13  question_count  2407 non-null   int64  \n",
      "dtypes: float64(4), int64(8), object(2)\n",
      "memory usage: 263.4+ KB\n"
     ]
    }
   ],
   "source": [
    "movies.info()"
   ]
  },
  {
   "cell_type": "code",
   "execution_count": null,
   "metadata": {},
   "outputs": [],
   "source": []
  }
 ],
 "metadata": {
  "kernelspec": {
   "display_name": "Python 3",
   "language": "python",
   "name": "python3"
  },
  "language_info": {
   "codemirror_mode": {
    "name": "ipython",
    "version": 3
   },
   "file_extension": ".py",
   "mimetype": "text/x-python",
   "name": "python",
   "nbconvert_exporter": "python",
   "pygments_lexer": "ipython3",
   "version": "3.8.5"
  }
 },
 "nbformat": 4,
 "nbformat_minor": 4
}
