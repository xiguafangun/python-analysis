{
 "cells": [
  {
   "cell_type": "code",
   "execution_count": 2,
   "metadata": {},
   "outputs": [],
   "source": [
    "import openpyxl"
   ]
  },
  {
   "cell_type": "code",
   "execution_count": 9,
   "metadata": {},
   "outputs": [],
   "source": [
    "workbook = openpyxl.Workbook()\n",
    "dest_filename = 'employees.xlsx'\n",
    "sheet = workbook.active\n",
    "sheet.title = \"range names\"\n",
    "sheet.append(['姓名', '年龄', '职业'])\n",
    "sheet.append(['小明', 20, '大学生'])\n",
    "sheet.append(['鸣人', 22, '火影'])\n",
    "sheet.append(['柯南', 10, '小学生'])\n",
    "workbook.save(filename = dest_filename)"
   ]
  },
  {
   "cell_type": "code",
   "execution_count": null,
   "metadata": {},
   "outputs": [],
   "source": []
  }
 ],
 "metadata": {
  "kernelspec": {
   "display_name": "Python 3",
   "language": "python",
   "name": "python3"
  },
  "language_info": {
   "codemirror_mode": {
    "name": "ipython",
    "version": 3
   },
   "file_extension": ".py",
   "mimetype": "text/x-python",
   "name": "python",
   "nbconvert_exporter": "python",
   "pygments_lexer": "ipython3",
   "version": "3.8.5"
  }
 },
 "nbformat": 4,
 "nbformat_minor": 4
}
