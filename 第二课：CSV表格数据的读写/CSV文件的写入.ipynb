{
 "cells": [
  {
   "cell_type": "code",
   "execution_count": 37,
   "metadata": {},
   "outputs": [],
   "source": [
    "import csv\n",
    "\n",
    "with open(\n",
    "    \"employee_file.csv\", mode=\"w\", encoding=\"utf-8-sig\", newline=\"\"\n",
    ") as employee_file:\n",
    "    employee_writer = csv.writer(employee_file, delimiter=\",\")\n",
    "\n",
    "    employee_writer.writerow([\"名称\", \"职业\", \"年龄\"])\n",
    "    employee_writer.writerow([\"小明\", \"程序员\", \"22\"])\n",
    "    employee_writer.writerow([\"鸣人\", \"火影\", \"20\"])\n",
    "    employee_writer.writerow([\"柯南\", \"小学生\", \"10\"])"
   ]
  },
  {
   "cell_type": "code",
   "execution_count": 45,
   "metadata": {},
   "outputs": [],
   "source": [
    "with open(\n",
    "    \"employee_file.csv\", mode=\"w\", encoding=\"utf-8-sig\", newline=\"\"\n",
    ") as employee_file:\n",
    "    employee_writer = csv.DictWriter(\n",
    "        employee_file, delimiter=\",\", fieldnames=[\"名称\", \"职业\", \"年龄\"]\n",
    "    )\n",
    "    employee_writer.writeheader()\n",
    "    employee_writer.writerow({\"名称\": \"小明\", \"职业\": \"程序员\", \"年龄\": \"22\"})\n",
    "    employee_writer.writerow({\"名称\": \"鸣人\", \"职业\": \"火影\", \"年龄\": \"20\"})\n",
    "    employee_writer.writerow({\"名称\": \"柯南\", \"职业\": \"小学生\", \"年龄\": \"10\"})"
   ]
  },
  {
   "cell_type": "code",
   "execution_count": null,
   "metadata": {},
   "outputs": [],
   "source": []
  },
  {
   "cell_type": "code",
   "execution_count": null,
   "metadata": {},
   "outputs": [],
   "source": []
  }
 ],
 "metadata": {
  "kernelspec": {
   "display_name": "Python 3",
   "language": "python",
   "name": "python3"
  },
  "language_info": {
   "codemirror_mode": {
    "name": "ipython",
    "version": 3
   },
   "file_extension": ".py",
   "mimetype": "text/x-python",
   "name": "python",
   "nbconvert_exporter": "python",
   "pygments_lexer": "ipython3",
   "version": "3.8.5"
  }
 },
 "nbformat": 4,
 "nbformat_minor": 4
}
